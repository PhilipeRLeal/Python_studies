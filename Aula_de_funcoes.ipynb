{
 "cells": [
  {
   "cell_type": "markdown",
   "metadata": {},
   "source": [
    "# Variáveis locais e globais\n",
    "    \n",
    "    Variáveis definidas em funções são locais, isto é, só podem \n",
    "ser usadas nas funções em que foram definidas\n",
    "\n",
    "    Variáveis definidas fora de funções são conhecidas como \n",
    "variáveis globais\n",
    "\n",
    "    É possível no código de uma função ler o conteúdo de uma \n",
    "variável global\n",
    "    \n",
    "    Para alterar uma variável global, ela precisa ser declarada \n",
    "no corpo da função usando o comando global"
   ]
  },
  {
   "cell_type": "code",
   "execution_count": 54,
   "metadata": {
    "collapsed": true
   },
   "outputs": [],
   "source": [
    "# -*- coding: utf-8 -*-"
   ]
  },
  {
   "cell_type": "code",
   "execution_count": 1,
   "metadata": {
    "collapsed": false
   },
   "outputs": [
    {
     "name": "stdout",
     "output_type": "stream",
     "text": [
      "1\n"
     ]
    }
   ],
   "source": [
    "# exemplo de variavel global\n",
    "\n",
    "def f():\n",
    "    print a\n",
    "    \n",
    "a = 1\n",
    "\n",
    "f()"
   ]
  },
  {
   "cell_type": "code",
   "execution_count": 1,
   "metadata": {
    "collapsed": false
   },
   "outputs": [
    {
     "name": "stdout",
     "output_type": "stream",
     "text": [
      "2\n"
     ]
    }
   ],
   "source": [
    "# exemplo de variavel local: notar que o valor de \"b\" nao mudou\n",
    "b = 2\n",
    "\n",
    "def f2():\n",
    "    b = 5\n",
    "    \n",
    "f2()\n",
    "\n",
    "print b\n"
   ]
  },
  {
   "cell_type": "code",
   "execution_count": 87,
   "metadata": {
    "collapsed": false
   },
   "outputs": [
    {
     "name": "stdout",
     "output_type": "stream",
     "text": [
      "('Resultado de F3: ', 5)\n",
      "\n",
      "('Resultado de F4: ', 50)\n"
     ]
    }
   ],
   "source": [
    "# notar que a funcao aceita receber um valor de uma variavel global,\n",
    "#mas nao permite alterá-la dentro da funcao. Chamar uma variavel\n",
    "# global é funcional apenas para ser utilizada na funcao.\n",
    "\n",
    "a = 5\n",
    "\n",
    "def f3():\n",
    "    \n",
    "    global a\n",
    "    return a\n",
    "\n",
    "\n",
    "\n",
    "def f4():\n",
    "    \n",
    "    global a\n",
    "    b = 10\n",
    "    \n",
    "    Resultado = a*b\n",
    "    return Resultado\n",
    "\n",
    "print (\"Resultado de F3: \", f3())\n",
    "\n",
    "print \"\"\n",
    "\n",
    "print (\"Resultado de F4: \", f4())"
   ]
  },
  {
   "cell_type": "code",
   "execution_count": 30,
   "metadata": {
    "collapsed": false
   },
   "outputs": [
    {
     "name": "stdout",
     "output_type": "stream",
     "text": [
      "1\n"
     ]
    },
    {
     "ename": "AttributeError",
     "evalue": "'function' object has no attribute 'closure'",
     "output_type": "error",
     "traceback": [
      "\u001b[0;31m---------------------------------------------------------------------------\u001b[0m",
      "\u001b[0;31mAttributeError\u001b[0m                            Traceback (most recent call last)",
      "\u001b[0;32m<ipython-input-30-03c0ce5171b0>\u001b[0m in \u001b[0;36m<module>\u001b[0;34m()\u001b[0m\n\u001b[1;32m     10\u001b[0m \u001b[1;32mprint\u001b[0m \u001b[0ma\u001b[0m\u001b[1;33m\u001b[0m\u001b[0m\n\u001b[1;32m     11\u001b[0m \u001b[1;33m\u001b[0m\u001b[0m\n\u001b[0;32m---> 12\u001b[0;31m \u001b[1;32mprint\u001b[0m \u001b[0mf\u001b[0m\u001b[1;33m.\u001b[0m\u001b[0mclosure\u001b[0m\u001b[1;33m(\u001b[0m\u001b[1;33m)\u001b[0m\u001b[1;33m\u001b[0m\u001b[0m\n\u001b[0m",
      "\u001b[0;31mAttributeError\u001b[0m: 'function' object has no attribute 'closure'"
     ]
    }
   ],
   "source": [
    "# mais um exemplo: notar como \"a\", a variavel global nao é alterada pela funcao\n",
    "\n",
    "def f(x):\n",
    "    x = 5\n",
    "    \n",
    "a = 1\n",
    "\n",
    "f(a)\n",
    "\n",
    "print a\n"
   ]
  },
  {
   "cell_type": "markdown",
   "metadata": {},
   "source": [
    "# funcoes com argumentos:\n",
    "\n",
    "    # argumentos podem ser obrigatórios ou default\n",
    "    # argumentos default nao precisam ser obrigatoriamente preenchidos pelo usuario ao chamar a funcao"
   ]
  },
  {
   "cell_type": "code",
   "execution_count": 11,
   "metadata": {
    "collapsed": false
   },
   "outputs": [
    {
     "data": {
      "text/plain": [
       "4"
      ]
     },
     "execution_count": 11,
     "metadata": {},
     "output_type": "execute_result"
    }
   ],
   "source": [
    "# funcoes com argumentos obrigatórios:\n",
    "\n",
    "def f(x):\n",
    "    return x*x\n",
    "\n",
    "f(2)\n",
    "\n"
   ]
  },
  {
   "cell_type": "markdown",
   "metadata": {},
   "source": [
    "# funcoes com argumentos deault:\n",
    "\n",
    "## Formato: \n",
    "    def nome (arg1=default1, ..., argN=defaultN)\n",
    "    \n",
    "    Se apenas alguns argumentos têm default, esses devem \n",
    "    ser os últimos\n",
    "    \n",
    "    Se não fosse assim, haveria ambigüidade na passagem de \n",
    "    argumentos"
   ]
  },
  {
   "cell_type": "code",
   "execution_count": 2,
   "metadata": {
    "collapsed": false
   },
   "outputs": [
    {
     "name": "stdout",
     "output_type": "stream",
     "text": [
      "Oi,Joao!!\n",
      "Parabens,Joao!!\n",
      "Valeu,Joao!!\n"
     ]
    }
   ],
   "source": [
    "def f(nome,saudacao=\"Oi\",pontuacao=\"!!\"):\n",
    "     return saudacao+\",\"+nome+pontuacao\n",
    "    \n",
    "print f(\"Joao\")\n",
    "\n",
    "print f(\"Joao\", \"Parabens\")\n",
    "\n",
    "print f(saudacao=\"Valeu\",nome=\"Joao\")"
   ]
  },
  {
   "cell_type": "markdown",
   "metadata": {},
   "source": [
    "# Documentacao de funcao:\n",
    "\n",
    "## Usando cabeçalho dentro de uma funcao para descrevê-la: uso da estrutura \"docstrings\"\n",
    "\n",
    "    # Uma constante string escrita logo após o cabeçalho da função \n",
    "    \n",
    "    # Permite o acesso à documentação a partir do interpretador, usando a notação função . __doc__\n"
   ]
  },
  {
   "cell_type": "code",
   "execution_count": 4,
   "metadata": {
    "collapsed": false
   },
   "outputs": [
    {
     "name": "stdout",
     "output_type": "stream",
     "text": [
      "Retorna o fatorial de n.\n"
     ]
    },
    {
     "data": {
      "text/plain": [
       "24"
      ]
     },
     "execution_count": 4,
     "metadata": {},
     "output_type": "execute_result"
    }
   ],
   "source": [
    "def fat(n):\n",
    "    \"Retorna o fatorial de n.\"\n",
    "    \n",
    "    for i in range(n-1, 1, -1):\n",
    "        n = n*i\n",
    "        \n",
    "    return n\n",
    "\n",
    "\n",
    "\n",
    "print fat.__doc__ # impressão da documentação de uma função\n",
    "\n",
    "fat(4)\n"
   ]
  },
  {
   "cell_type": "markdown",
   "metadata": {},
   "source": [
    "# Lista de parâmetros variável: * tuplas\n",
    "\n",
    "Se o último argumento de uma definição de função \n",
    "começa com *, todos os valores passados, a partir daquele, \n",
    "são postos numa tupla"
   ]
  },
  {
   "cell_type": "code",
   "execution_count": 35,
   "metadata": {
    "collapsed": false
   },
   "outputs": [
    {
     "name": "stdout",
     "output_type": "stream",
     "text": [
      "a (1, 2, 'b')\n"
     ]
    }
   ],
   "source": [
    "#Ex:\n",
    "\n",
    "def funcao(nome, *atributos):\n",
    "    print nome, atributos\n",
    "    \n",
    "funcao (\"a\", 1, 2, \"b\")"
   ]
  },
  {
   "cell_type": "code",
   "execution_count": 8,
   "metadata": {
    "collapsed": false
   },
   "outputs": [
    {
     "name": "stdout",
     "output_type": "stream",
     "text": [
      "resultado de soma(1,2,5) = 8\n",
      "\n",
      "resultado de soma(1,2,5, 10,20) = 8\n"
     ]
    }
   ],
   "source": [
    "# Ex 2:\n",
    "\n",
    "\n",
    "def soma(a, b, *numeros):\n",
    "    soma = a + b\n",
    "    for num in numeros:\n",
    "        soma += num\n",
    "    return soma\n",
    "\n",
    "\n",
    "\n",
    "print (\"resultado de soma(1,2,5) = {0}\".format(soma(1,2,5)))\n",
    "print \n",
    "# neste caso, somaram-se 1 com 2 = 3, e depois 3 foi somado ao argumento 1 da tupla. Como o argumento 1 da lista é igual a 5, então 3 + 5 = 8\n",
    "\n",
    "print (\"resultado de soma(1,2,5, 10,20) = {0}\".format(soma(1,2,5)))\n",
    "\n"
   ]
  },
  {
   "cell_type": "code",
   "execution_count": 104,
   "metadata": {
    "collapsed": false
   },
   "outputs": [
    {
     "name": "stdout",
     "output_type": "stream",
     "text": [
      "1\n",
      "21\n",
      "200060\n"
     ]
    }
   ],
   "source": [
    "#Ex 3: generalizacao para entrada de qualquer numero de valores para operacao numa funcao:\n",
    "\n",
    "def soma_generalizada(*numeros):\n",
    "    Soma = 0\n",
    "    for num in numeros:\n",
    "        Soma = Soma + num \n",
    "        \n",
    "    return Soma\n",
    "\n",
    "print soma_generalizada(1)\n",
    "\n",
    "print soma_generalizada(1,2,3,4,5,6)\n",
    "\n",
    "print soma_generalizada(10,10,20,20,200000)\n",
    "\n",
    "\n"
   ]
  },
  {
   "cell_type": "code",
   "execution_count": 70,
   "metadata": {
    "collapsed": false
   },
   "outputs": [
    {
     "name": "stdout",
     "output_type": "stream",
     "text": [
      "Um dos termos adicionados não é um número. Termo desconsiderado. Continuando com a operação...\n",
      "{'Soma': 15, 'Media': 3.0, 'Maximo ': 6, 'Minimo ': 6, 'Contagem': 5.0}\n"
     ]
    }
   ],
   "source": [
    "# -*- coding: utf-11 -*-\n",
    "\n",
    "#Ex 3.1: generalizacao para entrada de qualquer conjunto de termos (numeros e strings) para operacao numa funcao:\n",
    "\n",
    "def soma_generalizada(*numeros):\n",
    "    Soma = 0\n",
    "    Count = 0\n",
    "    for num in numeros:\n",
    "        if type(num) == type(1): \n",
    "            Soma = Soma + num \n",
    "            Minimo = num\n",
    "            Maximo = num\n",
    "            Count += 1.0\n",
    "            if num <Minimo:\n",
    "                Minimo = num\n",
    "                \n",
    "                \n",
    "            if num > Maximo:\n",
    "                Maximo = num\n",
    "        \n",
    "        \n",
    "            \n",
    "        else:\n",
    "            print \"Um dos termos adicionados não é um número. Termo desconsiderado. Continuando com a operação...\"\n",
    "            continue\n",
    "            \n",
    "    \n",
    "    Media = Soma/Count      \n",
    "    Dict = {\"Soma\": Soma, \"Maximo \": Maximo, \"Minimo \": Minimo, \"Contagem\": Count, \"Media\": Media}\n",
    "    return Dict\n",
    "\n",
    "print soma_generalizada(1,2,\"a\",2,4,6)\n",
    "\n"
   ]
  },
  {
   "cell_type": "code",
   "execution_count": 115,
   "metadata": {
    "collapsed": false
   },
   "outputs": [
    {
     "data": {
      "text/plain": [
       "4452525.0"
      ]
     },
     "execution_count": 115,
     "metadata": {},
     "output_type": "execute_result"
    }
   ],
   "source": [
    "#Ex 4: generalizacao para entrada de qualquer numero de valores para operacao numa funcao:\n",
    "\n",
    "\n",
    "def multiplicacao_generalizada(*valores_de_entrada):\n",
    "    Multiplicacao = 1\n",
    "    \n",
    "    for valores in valores_de_entrada:\n",
    "        Multiplicacao = (Multiplicacao * valores)\n",
    "        \n",
    "    return Multiplicacao\n",
    "    \n",
    "multiplicacao_generalizada(1,2,3)\n",
    "\n",
    "multiplicacao_generalizada(1.4,15,11,25,771)"
   ]
  },
  {
   "cell_type": "markdown",
   "metadata": {},
   "source": [
    "# Lista de parâmetros variável (2): ** dicionario\n",
    "\n",
    "Se o último argumento de uma definição de função \n",
    "começa com **, todos os valores passados usando chaves, \n",
    "a partir daquele, são postos num dicionário"
   ]
  },
  {
   "cell_type": "code",
   "execution_count": 37,
   "metadata": {
    "collapsed": false
   },
   "outputs": [
    {
     "ename": "TypeError",
     "evalue": "f() takes exactly 2 arguments (3 given)",
     "output_type": "error",
     "traceback": [
      "\u001b[0;31m---------------------------------------------------------------------------\u001b[0m",
      "\u001b[0;31mTypeError\u001b[0m                                 Traceback (most recent call last)",
      "\u001b[0;32m<ipython-input-37-1aae2b3b1e21>\u001b[0m in \u001b[0;36m<module>\u001b[0;34m()\u001b[0m\n\u001b[1;32m      4\u001b[0m     \u001b[1;32mprint\u001b[0m \u001b[0ma\u001b[0m\u001b[1;33m,\u001b[0m \u001b[0mb\u001b[0m\u001b[1;33m,\u001b[0m \u001b[0mc\u001b[0m\u001b[1;33m\u001b[0m\u001b[0m\n\u001b[1;32m      5\u001b[0m \u001b[1;33m\u001b[0m\u001b[0m\n\u001b[0;32m----> 6\u001b[0;31m \u001b[0mf\u001b[0m\u001b[1;33m(\u001b[0m\u001b[1;36m1\u001b[0m\u001b[1;33m,\u001b[0m\u001b[1;36m2\u001b[0m\u001b[1;33m,\u001b[0m\u001b[1;36m3\u001b[0m\u001b[1;33m)\u001b[0m\u001b[1;33m\u001b[0m\u001b[0m\n\u001b[0m\u001b[1;32m      7\u001b[0m \u001b[1;33m\u001b[0m\u001b[0m\n",
      "\u001b[0;31mTypeError\u001b[0m: f() takes exactly 2 arguments (3 given)"
     ]
    }
   ],
   "source": [
    "# Ex:\n",
    "\n",
    "def f(a, b, **c):\n",
    "    print a, b, c\n",
    "    \n",
    "f(1,2,3)\n",
    "\n"
   ]
  },
  {
   "cell_type": "code",
   "execution_count": 38,
   "metadata": {
    "collapsed": false
   },
   "outputs": [
    {
     "name": "stdout",
     "output_type": "stream",
     "text": [
      "1 2 {'x': 3}\n"
     ]
    }
   ],
   "source": [
    "f(1,2, x=3)"
   ]
  },
  {
   "cell_type": "code",
   "execution_count": null,
   "metadata": {
    "collapsed": true
   },
   "outputs": [],
   "source": []
  },
  {
   "cell_type": "code",
   "execution_count": null,
   "metadata": {
    "collapsed": true
   },
   "outputs": [],
   "source": []
  },
  {
   "cell_type": "markdown",
   "metadata": {},
   "source": [
    "# Manipulando funcoes entre si:\n",
    "\n",
    "Nomes de funções podem ser manipulados como variáveis e mesmo como argumentos de funções\n",
    "\n",
    "Para saber se um nome se refere a uma função,use o predicado callable()"
   ]
  },
  {
   "cell_type": "code",
   "execution_count": 43,
   "metadata": {
    "collapsed": false
   },
   "outputs": [
    {
     "data": {
      "text/plain": [
       "25"
      ]
     },
     "execution_count": 43,
     "metadata": {},
     "output_type": "execute_result"
    }
   ],
   "source": [
    "\n",
    "def f(g):\n",
    "    return g(5)\n",
    "\n",
    "def h (x):\n",
    "    return x**2\n",
    "\n",
    "f(h)"
   ]
  },
  {
   "cell_type": "code",
   "execution_count": 44,
   "metadata": {
    "collapsed": false
   },
   "outputs": [
    {
     "data": {
      "text/plain": [
       "25"
      ]
     },
     "execution_count": 44,
     "metadata": {},
     "output_type": "execute_result"
    }
   ],
   "source": [
    "m = h\n",
    "callable(m)\n",
    "\n",
    "f(m)"
   ]
  },
  {
   "cell_type": "markdown",
   "metadata": {},
   "source": [
    "# Funcoes dentro de funcoes:"
   ]
  },
  {
   "cell_type": "code",
   "execution_count": 45,
   "metadata": {
    "collapsed": false
   },
   "outputs": [
    {
     "data": {
      "text/plain": [
       "8"
      ]
     },
     "execution_count": 45,
     "metadata": {},
     "output_type": "execute_result"
    }
   ],
   "source": [
    "def f(x):\n",
    "    def g(y):\n",
    "        return x*y\n",
    "    \n",
    "    return g(2)\n",
    "\n",
    "\n",
    "f(4)"
   ]
  },
  {
   "cell_type": "code",
   "execution_count": 82,
   "metadata": {
    "collapsed": false
   },
   "outputs": [
    {
     "ename": "NameError",
     "evalue": "global name 'y' is not defined",
     "output_type": "error",
     "traceback": [
      "\u001b[0;31m---------------------------------------------------------------------------\u001b[0m",
      "\u001b[0;31mNameError\u001b[0m                                 Traceback (most recent call last)",
      "\u001b[0;32m<ipython-input-82-0dc4e571383b>\u001b[0m in \u001b[0;36m<module>\u001b[0;34m()\u001b[0m\n\u001b[1;32m      5\u001b[0m     \u001b[1;32mreturn\u001b[0m \u001b[0mg\u001b[0m\u001b[1;33m(\u001b[0m\u001b[0my\u001b[0m\u001b[1;33m)\u001b[0m\u001b[1;33m\u001b[0m\u001b[0m\n\u001b[1;32m      6\u001b[0m \u001b[1;33m\u001b[0m\u001b[0m\n\u001b[0;32m----> 7\u001b[0;31m \u001b[1;32mprint\u001b[0m \u001b[0mf\u001b[0m\u001b[1;33m(\u001b[0m\u001b[1;36m4\u001b[0m\u001b[1;33m)\u001b[0m\u001b[1;33m\u001b[0m\u001b[0m\n\u001b[0m",
      "\u001b[0;32m<ipython-input-82-0dc4e571383b>\u001b[0m in \u001b[0;36mf\u001b[0;34m(x)\u001b[0m\n\u001b[1;32m      3\u001b[0m         \u001b[1;32mreturn\u001b[0m \u001b[0mx\u001b[0m\u001b[1;33m*\u001b[0m\u001b[0my\u001b[0m\u001b[1;33m\u001b[0m\u001b[0m\n\u001b[1;32m      4\u001b[0m \u001b[1;33m\u001b[0m\u001b[0m\n\u001b[0;32m----> 5\u001b[0;31m     \u001b[1;32mreturn\u001b[0m \u001b[0mg\u001b[0m\u001b[1;33m(\u001b[0m\u001b[0my\u001b[0m\u001b[1;33m)\u001b[0m\u001b[1;33m\u001b[0m\u001b[0m\n\u001b[0m\u001b[1;32m      6\u001b[0m \u001b[1;33m\u001b[0m\u001b[0m\n\u001b[1;32m      7\u001b[0m \u001b[1;32mprint\u001b[0m \u001b[0mf\u001b[0m\u001b[1;33m(\u001b[0m\u001b[1;36m4\u001b[0m\u001b[1;33m)\u001b[0m\u001b[1;33m\u001b[0m\u001b[0m\n",
      "\u001b[0;31mNameError\u001b[0m: global name 'y' is not defined"
     ]
    }
   ],
   "source": [
    "def f(x):\n",
    "    def g(y):\n",
    "        return x*y\n",
    "    \n",
    "    return g(y)\n",
    "\n",
    "print f(4)\n"
   ]
  },
  {
   "cell_type": "code",
   "execution_count": 54,
   "metadata": {
    "collapsed": false
   },
   "outputs": [
    {
     "name": "stdout",
     "output_type": "stream",
     "text": [
      "<function g at 0x03CDCBB0>\n"
     ]
    }
   ],
   "source": [
    "def f(x):\n",
    "    def g(y):\n",
    "        return x*y\n",
    "    \n",
    "    return g\n",
    "\n",
    "print f(4)\n"
   ]
  },
  {
   "cell_type": "code",
   "execution_count": 53,
   "metadata": {
    "collapsed": false
   },
   "outputs": [
    {
     "name": "stdout",
     "output_type": "stream",
     "text": [
      "6\n"
     ]
    }
   ],
   "source": [
    "# Ex: 2\n",
    "    \n",
    "x = 2\n",
    "\n",
    "def f(y):\n",
    "    def g(z):\n",
    "        return x*y*z\n",
    "    return g\n",
    "\n",
    "h = f(3)\n",
    "\n",
    "print h(1)"
   ]
  },
  {
   "cell_type": "code",
   "execution_count": 72,
   "metadata": {
    "collapsed": false
   },
   "outputs": [
    {
     "ename": "SyntaxError",
     "evalue": "invalid syntax (<ipython-input-72-0f3730a0558a>, line 9)",
     "output_type": "error",
     "traceback": [
      "\u001b[0;36m  File \u001b[0;32m\"<ipython-input-72-0f3730a0558a>\"\u001b[0;36m, line \u001b[0;32m9\u001b[0m\n\u001b[0;31m    x = global(x)\u001b[0m\n\u001b[0m             ^\u001b[0m\n\u001b[0;31mSyntaxError\u001b[0m\u001b[0;31m:\u001b[0m invalid syntax\n"
     ]
    }
   ],
   "source": [
    "# Ex: 3\n",
    "    \n",
    "x = 2\n",
    "\n",
    "def f(y):\n",
    "    \"opera y em funcao de g(z)\"\n",
    "    def g(z):\n",
    "        \"opera z em funcao de x\"\n",
    "        x = global x\n",
    "        resultado = x*y*z\n",
    "        return resultado\n",
    "    return g\n",
    "\n",
    "print f(3)(1)\n",
    "\n",
    "print f.__doc__\n",
    "\n",
    "print f(g).__doc__"
   ]
  },
  {
   "cell_type": "markdown",
   "metadata": {},
   "source": [
    "# Condicionais dentro de funcoes:"
   ]
  },
  {
   "cell_type": "code",
   "execution_count": 94,
   "metadata": {
    "collapsed": false
   },
   "outputs": [
    {
     "name": "stdout",
     "output_type": "stream",
     "text": [
      "4750.0\n"
     ]
    }
   ],
   "source": [
    "def calcular_pagamento(qtd_horas, valor_hora):\n",
    "    horas = float(qtd_horas)\n",
    "    taxa = float(valor_hora)\n",
    "    if horas <= 40:\n",
    "        salario=horas*taxa\n",
    "    else:\n",
    "        h_excd = horas - 40\n",
    "        salario = 40*taxa+(h_excd*(1.5*taxa))\n",
    "        \n",
    "    return (salario)\n",
    "\n",
    "print calcular_pagamento(qtd_horas = 45, valor_hora = 100)"
   ]
  },
  {
   "cell_type": "code",
   "execution_count": null,
   "metadata": {
    "collapsed": true
   },
   "outputs": [],
   "source": []
  }
 ],
 "metadata": {
  "kernelspec": {
   "display_name": "Python 2",
   "language": "python",
   "name": "python2"
  },
  "language_info": {
   "codemirror_mode": {
    "name": "ipython",
    "version": 2
   },
   "file_extension": ".py",
   "mimetype": "text/x-python",
   "name": "python",
   "nbconvert_exporter": "python",
   "pygments_lexer": "ipython2",
   "version": "2.7.13"
  }
 },
 "nbformat": 4,
 "nbformat_minor": 2
}
